{
 "cells": [
  {
   "cell_type": "markdown",
   "metadata": {
    "id": "VfcwlNLjQPcV"
   },
   "source": [
    "# Devido a descontinuação da biblioteca padas profiling recomendamos os alunos adotarem a ydata profiling, que conta com as mesmas utilidades. Para isso sigam os passos abaixo:"
   ]
  },
  {
   "cell_type": "code",
   "execution_count": null,
   "metadata": {
    "id": "jbrf65bVQbPQ"
   },
   "outputs": [],
   "source": [
    "!pip install ydata_profiling"
   ]
  },
  {
   "cell_type": "code",
   "execution_count": null,
   "metadata": {
    "id": "xMJiHpM3Qelt"
   },
   "outputs": [],
   "source": [
    "from ydata_profiling import ProfileReport"
   ]
  }
 ],
 "metadata": {
  "colab": {
   "provenance": []
  },
  "kernelspec": {
   "display_name": "Python 3 (ipykernel)",
   "language": "python",
   "name": "python3"
  },
  "language_info": {
   "codemirror_mode": {
    "name": "ipython",
    "version": 3
   },
   "file_extension": ".py",
   "mimetype": "text/x-python",
   "name": "python",
   "nbconvert_exporter": "python",
   "pygments_lexer": "ipython3",
   "version": "3.11.7"
  }
 },
 "nbformat": 4,
 "nbformat_minor": 4
}
